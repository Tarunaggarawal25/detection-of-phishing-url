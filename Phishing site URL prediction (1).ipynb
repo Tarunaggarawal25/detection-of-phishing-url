{
 "cells": [
  {
   "cell_type": "code",
   "execution_count": 1,
   "id": "e9628e64-bc21-485c-9421-335c0c37710e",
   "metadata": {},
   "outputs": [],
   "source": [
    "import pandas as pd # use for data manipulation and analysis\n",
    "import numpy as np # use for multi-dimensional array and matrix\n",
    "\n",
    "import seaborn as sns # use for high-level interface for drawing attractive and informative statistical graphics \n",
    "import matplotlib.pyplot as plt # It provides an object-oriented API for embedding plots into applications\n",
    "%matplotlib inline \n",
    "# It sets the backend of matplotlib to the 'inline' backend:\n",
    "import time # calculate time \n",
    "\n",
    "from sklearn.linear_model import LogisticRegression # algo use to predict good or bad\n",
    "from sklearn.naive_bayes import MultinomialNB # nlp algo use to predict good or bad\n",
    "\n",
    "from sklearn.model_selection import train_test_split # spliting the data between feature and target\n",
    "from sklearn.metrics import classification_report # gives whole report about metrics (e.g, recall,precision,f1_score,c_m)\n",
    "from sklearn.metrics import confusion_matrix # gives info about actual and predict\n",
    "from nltk.tokenize import RegexpTokenizer # regexp tokenizers use to split words from text  \n",
    "from nltk.stem.snowball import SnowballStemmer # stemmes words\n",
    "from sklearn.feature_extraction.text import CountVectorizer # create sparse matrix of words using regexptokenizes  \n",
    "from sklearn.pipeline import make_pipeline # use for combining all prerocessors techniuqes and algos\n",
    "\n",
    "from PIL import Image # getting images in notebook\n",
    "#from wordcloud import WordCloud, STOPWORDS, ImageColorGenerator# creates words colud\n",
    "\n",
    "from nltk.corpus import stopwords\n",
    "\n",
    "from bs4 import BeautifulSoup # use for scraping the data from website\n",
    "from selenium import webdriver # use for automation chrome \n",
    "import networkx as nx # for the creation, manipulation, and study of the structure, dynamics, and functions of complex networks.\n",
    "\n",
    "import pickle# use to dump model \n",
    "import requests\n",
    "\n",
    "import warnings # ignores pink warnings \n",
    "warnings.filterwarnings('ignore')"
   ]
  },
  {
   "cell_type": "code",
   "execution_count": 2,
   "id": "07157266-68a0-4140-afbd-112f1d5f4345",
   "metadata": {},
   "outputs": [],
   "source": [
    "phish_data = pd.read_csv('phishing_site_urls.csv')"
   ]
  },
  {
   "cell_type": "code",
   "execution_count": 3,
   "id": "aeb1ffb1-40cd-43bd-a361-f357aaca0318",
   "metadata": {},
   "outputs": [
    {
     "data": {
      "text/html": [
       "<div>\n",
       "<style scoped>\n",
       "    .dataframe tbody tr th:only-of-type {\n",
       "        vertical-align: middle;\n",
       "    }\n",
       "\n",
       "    .dataframe tbody tr th {\n",
       "        vertical-align: top;\n",
       "    }\n",
       "\n",
       "    .dataframe thead th {\n",
       "        text-align: right;\n",
       "    }\n",
       "</style>\n",
       "<table border=\"1\" class=\"dataframe\">\n",
       "  <thead>\n",
       "    <tr style=\"text-align: right;\">\n",
       "      <th></th>\n",
       "      <th>URL</th>\n",
       "      <th>Label</th>\n",
       "    </tr>\n",
       "  </thead>\n",
       "  <tbody>\n",
       "    <tr>\n",
       "      <th>0</th>\n",
       "      <td>nobell.it/70ffb52d079109dca5664cce6f317373782/...</td>\n",
       "      <td>bad</td>\n",
       "    </tr>\n",
       "    <tr>\n",
       "      <th>1</th>\n",
       "      <td>www.dghjdgf.com/paypal.co.uk/cycgi-bin/webscrc...</td>\n",
       "      <td>bad</td>\n",
       "    </tr>\n",
       "    <tr>\n",
       "      <th>2</th>\n",
       "      <td>serviciosbys.com/paypal.cgi.bin.get-into.herf....</td>\n",
       "      <td>bad</td>\n",
       "    </tr>\n",
       "    <tr>\n",
       "      <th>3</th>\n",
       "      <td>mail.printakid.com/www.online.americanexpress....</td>\n",
       "      <td>bad</td>\n",
       "    </tr>\n",
       "    <tr>\n",
       "      <th>4</th>\n",
       "      <td>thewhiskeydregs.com/wp-content/themes/widescre...</td>\n",
       "      <td>bad</td>\n",
       "    </tr>\n",
       "  </tbody>\n",
       "</table>\n",
       "</div>"
      ],
      "text/plain": [
       "                                                 URL Label\n",
       "0  nobell.it/70ffb52d079109dca5664cce6f317373782/...   bad\n",
       "1  www.dghjdgf.com/paypal.co.uk/cycgi-bin/webscrc...   bad\n",
       "2  serviciosbys.com/paypal.cgi.bin.get-into.herf....   bad\n",
       "3  mail.printakid.com/www.online.americanexpress....   bad\n",
       "4  thewhiskeydregs.com/wp-content/themes/widescre...   bad"
      ]
     },
     "execution_count": 3,
     "metadata": {},
     "output_type": "execute_result"
    }
   ],
   "source": [
    "phish_data.head()"
   ]
  },
  {
   "cell_type": "code",
   "execution_count": 4,
   "id": "59e9e4fb-3c6e-41cc-bb38-6e39c4786f7b",
   "metadata": {},
   "outputs": [
    {
     "data": {
      "text/html": [
       "<div>\n",
       "<style scoped>\n",
       "    .dataframe tbody tr th:only-of-type {\n",
       "        vertical-align: middle;\n",
       "    }\n",
       "\n",
       "    .dataframe tbody tr th {\n",
       "        vertical-align: top;\n",
       "    }\n",
       "\n",
       "    .dataframe thead th {\n",
       "        text-align: right;\n",
       "    }\n",
       "</style>\n",
       "<table border=\"1\" class=\"dataframe\">\n",
       "  <thead>\n",
       "    <tr style=\"text-align: right;\">\n",
       "      <th></th>\n",
       "      <th>URL</th>\n",
       "      <th>Label</th>\n",
       "    </tr>\n",
       "  </thead>\n",
       "  <tbody>\n",
       "    <tr>\n",
       "      <th>549341</th>\n",
       "      <td>23.227.196.215/</td>\n",
       "      <td>bad</td>\n",
       "    </tr>\n",
       "    <tr>\n",
       "      <th>549342</th>\n",
       "      <td>apple-checker.org/</td>\n",
       "      <td>bad</td>\n",
       "    </tr>\n",
       "    <tr>\n",
       "      <th>549343</th>\n",
       "      <td>apple-iclods.org/</td>\n",
       "      <td>bad</td>\n",
       "    </tr>\n",
       "    <tr>\n",
       "      <th>549344</th>\n",
       "      <td>apple-uptoday.org/</td>\n",
       "      <td>bad</td>\n",
       "    </tr>\n",
       "    <tr>\n",
       "      <th>549345</th>\n",
       "      <td>apple-search.info</td>\n",
       "      <td>bad</td>\n",
       "    </tr>\n",
       "  </tbody>\n",
       "</table>\n",
       "</div>"
      ],
      "text/plain": [
       "                       URL Label\n",
       "549341     23.227.196.215/   bad\n",
       "549342  apple-checker.org/   bad\n",
       "549343   apple-iclods.org/   bad\n",
       "549344  apple-uptoday.org/   bad\n",
       "549345   apple-search.info   bad"
      ]
     },
     "execution_count": 4,
     "metadata": {},
     "output_type": "execute_result"
    }
   ],
   "source": [
    "phish_data.tail()"
   ]
  },
  {
   "cell_type": "code",
   "execution_count": 5,
   "id": "45c44e19-d212-4b4a-ba6a-9f5b5a0d3661",
   "metadata": {},
   "outputs": [
    {
     "name": "stdout",
     "output_type": "stream",
     "text": [
      "<class 'pandas.core.frame.DataFrame'>\n",
      "RangeIndex: 549346 entries, 0 to 549345\n",
      "Data columns (total 2 columns):\n",
      " #   Column  Non-Null Count   Dtype \n",
      "---  ------  --------------   ----- \n",
      " 0   URL     549346 non-null  object\n",
      " 1   Label   549346 non-null  object\n",
      "dtypes: object(2)\n",
      "memory usage: 8.4+ MB\n"
     ]
    }
   ],
   "source": [
    "phish_data.info()"
   ]
  },
  {
   "cell_type": "code",
   "execution_count": 6,
   "id": "3048a765-6682-418d-a873-744142dd5614",
   "metadata": {},
   "outputs": [
    {
     "data": {
      "text/plain": [
       "URL      0\n",
       "Label    0\n",
       "dtype: int64"
      ]
     },
     "execution_count": 6,
     "metadata": {},
     "output_type": "execute_result"
    }
   ],
   "source": [
    "phish_data.isnull().sum() # there is no missing values"
   ]
  },
  {
   "cell_type": "code",
   "execution_count": 7,
   "id": "5283708a-048f-477d-8f59-e634892f943e",
   "metadata": {},
   "outputs": [],
   "source": [
    "#create a dataframe of classes counts\n",
    "label_counts = pd.DataFrame(phish_data.Label.value_counts())"
   ]
  },
  {
   "cell_type": "code",
   "execution_count": 8,
   "id": "38240e87-09d9-445b-be42-cedf9d765b12",
   "metadata": {},
   "outputs": [
    {
     "data": {
      "text/plain": [
       "<AxesSubplot:ylabel='Label'>"
      ]
     },
     "execution_count": 8,
     "metadata": {},
     "output_type": "execute_result"
    },
    {
     "data": {
      "image/png": "[encoded data removed]",
      "text/plain": [
       "<Figure size 432x288 with 1 Axes>"
      ]
     },
     "metadata": {},
     "output_type": "display_data"
    }
   ],
   "source": [
    "#visualizing target_col\n",
    "sns.set_style('darkgrid')\n",
    "sns.barplot(label_counts.index,label_counts.Label)"
   ]
  },
  {
   "cell_type": "code",
   "execution_count": 9,
   "id": "386d0519-54bd-4356-9096-0fdc764c94d4",
   "metadata": {},
   "outputs": [],
   "source": [
    "tokenizer = RegexpTokenizer(r'[A-Za-z]+')"
   ]
  },
  {
   "cell_type": "code",
   "execution_count": 10,
   "id": "1939e497-fe00-4581-ac85-101cc894c20c",
   "metadata": {},
   "outputs": [
    {
     "data": {
      "text/plain": [
       "'nobell.it/70ffb52d079109dca5664cce6f317373782/login.SkyPe.com/en/cgi-bin/verification/login/70ffb52d079109dca5664cce6f317373/index.php?cmd=_profile-ach&outdated_page_tmpl=p/gen/failed-to-load&nav=0.5.1&login_access=1322408526'"
      ]
     },
     "execution_count": 10,
     "metadata": {},
     "output_type": "execute_result"
    }
   ],
   "source": [
    "phish_data.URL[0]"
   ]
  },
  {
   "cell_type": "code",
   "execution_count": 11,
   "id": "d1241cde-e85d-4ca2-8c78-b24bf5afd4dd",
   "metadata": {},
   "outputs": [
    {
     "data": {
      "text/plain": [
       "['nobell',\n",
       " 'it',\n",
       " 'ffb',\n",
       " 'd',\n",
       " 'dca',\n",
       " 'cce',\n",
       " 'f',\n",
       " 'login',\n",
       " 'SkyPe',\n",
       " 'com',\n",
       " 'en',\n",
       " 'cgi',\n",
       " 'bin',\n",
       " 'verification',\n",
       " 'login',\n",
       " 'ffb',\n",
       " 'd',\n",
       " 'dca',\n",
       " 'cce',\n",
       " 'f',\n",
       " 'index',\n",
       " 'php',\n",
       " 'cmd',\n",
       " 'profile',\n",
       " 'ach',\n",
       " 'outdated',\n",
       " 'page',\n",
       " 'tmpl',\n",
       " 'p',\n",
       " 'gen',\n",
       " 'failed',\n",
       " 'to',\n",
       " 'load',\n",
       " 'nav',\n",
       " 'login',\n",
       " 'access']"
      ]
     },
     "execution_count": 11,
     "metadata": {},
     "output_type": "execute_result"
    }
   ],
   "source": [
    "# this will be pull letter which matches to expression\n",
    "tokenizer.tokenize(phish_data.URL[0]) # using first row"
   ]
  },
  {
   "cell_type": "code",
   "execution_count": 12,
   "id": "a1471ca6-f79c-4867-95f3-cbf7e88e4bb6",
   "metadata": {},
   "outputs": [
    {
     "name": "stdout",
     "output_type": "stream",
     "text": [
      "Getting words tokenized ...\n",
      "Time taken 1.4943349999375641 sec\n"
     ]
    }
   ],
   "source": [
    "print('Getting words tokenized ...')\n",
    "t0= time.perf_counter()\n",
    "phish_data['text_tokenized'] = phish_data.URL.map(lambda t: tokenizer.tokenize(t)) # doing with all rows\n",
    "t1 = time.perf_counter() - t0\n",
    "print('Time taken',t1 ,'sec')"
   ]
  },
  {
   "cell_type": "code",
   "execution_count": 13,
   "id": "2b6290d7-68f6-4447-bc90-857f0bdf7283",
   "metadata": {},
   "outputs": [
    {
     "data": {
      "text/html": [
       "<div>\n",
       "<style scoped>\n",
       "    .dataframe tbody tr th:only-of-type {\n",
       "        vertical-align: middle;\n",
       "    }\n",
       "\n",
       "    .dataframe tbody tr th {\n",
       "        vertical-align: top;\n",
       "    }\n",
       "\n",
       "    .dataframe thead th {\n",
       "        text-align: right;\n",
       "    }\n",
       "</style>\n",
       "<table border=\"1\" class=\"dataframe\">\n",
       "  <thead>\n",
       "    <tr style=\"text-align: right;\">\n",
       "      <th></th>\n",
       "      <th>URL</th>\n",
       "      <th>Label</th>\n",
       "      <th>text_tokenized</th>\n",
       "    </tr>\n",
       "  </thead>\n",
       "  <tbody>\n",
       "    <tr>\n",
       "      <th>479291</th>\n",
       "      <td>zillow.com/homedetails/508-State-Route-908-Ext...</td>\n",
       "      <td>good</td>\n",
       "      <td>[zillow, com, homedetails, State, Route, Ext, ...</td>\n",
       "    </tr>\n",
       "    <tr>\n",
       "      <th>139862</th>\n",
       "      <td>abovehellskitchen.com/</td>\n",
       "      <td>good</td>\n",
       "      <td>[abovehellskitchen, com]</td>\n",
       "    </tr>\n",
       "    <tr>\n",
       "      <th>477680</th>\n",
       "      <td>youtube.com/watch?v=qK1DFbnOuow</td>\n",
       "      <td>good</td>\n",
       "      <td>[youtube, com, watch, v, qK, DFbnOuow]</td>\n",
       "    </tr>\n",
       "    <tr>\n",
       "      <th>145105</th>\n",
       "      <td>articles.latimes.com/2009/jul/23/business/fi-c...</td>\n",
       "      <td>good</td>\n",
       "      <td>[articles, latimes, com, jul, business, fi, ct...</td>\n",
       "    </tr>\n",
       "    <tr>\n",
       "      <th>440767</th>\n",
       "      <td>superpages.com/bp/Kansas-City-MO/Girl-Scouts-C...</td>\n",
       "      <td>good</td>\n",
       "      <td>[superpages, com, bp, Kansas, City, MO, Girl, ...</td>\n",
       "    </tr>\n",
       "  </tbody>\n",
       "</table>\n",
       "</div>"
      ],
      "text/plain": [
       "                                                      URL Label  \\\n",
       "479291  zillow.com/homedetails/508-State-Route-908-Ext...  good   \n",
       "139862                             abovehellskitchen.com/  good   \n",
       "477680                    youtube.com/watch?v=qK1DFbnOuow  good   \n",
       "145105  articles.latimes.com/2009/jul/23/business/fi-c...  good   \n",
       "440767  superpages.com/bp/Kansas-City-MO/Girl-Scouts-C...  good   \n",
       "\n",
       "                                           text_tokenized  \n",
       "479291  [zillow, com, homedetails, State, Route, Ext, ...  \n",
       "139862                           [abovehellskitchen, com]  \n",
       "477680             [youtube, com, watch, v, qK, DFbnOuow]  \n",
       "145105  [articles, latimes, com, jul, business, fi, ct...  \n",
       "440767  [superpages, com, bp, Kansas, City, MO, Girl, ...  "
      ]
     },
     "execution_count": 13,
     "metadata": {},
     "output_type": "execute_result"
    }
   ],
   "source": [
    "phish_data.sample(5)"
   ]
  },
  {
   "cell_type": "code",
   "execution_count": 14,
   "id": "1638ae78-dceb-45de-b643-ad6898d24660",
   "metadata": {},
   "outputs": [],
   "source": [
    "stemmer = SnowballStemmer(\"english\") # choose a language"
   ]
  },
  {
   "cell_type": "code",
   "execution_count": 15,
   "id": "d387f735-2de1-48ae-a884-0582018da046",
   "metadata": {},
   "outputs": [
    {
     "name": "stdout",
     "output_type": "stream",
     "text": [
      "Getting words stemmed ...\n",
      "Time taken 26.97272720001638 sec\n"
     ]
    }
   ],
   "source": [
    "print('Getting words stemmed ...')\n",
    "t0= time.perf_counter()\n",
    "phish_data['text_stemmed'] = phish_data['text_tokenized'].map(lambda l: [stemmer.stem(word) for word in l])\n",
    "t1= time.perf_counter() - t0\n",
    "print('Time taken',t1 ,'sec')"
   ]
  },
  {
   "cell_type": "code",
   "execution_count": 16,
   "id": "c41beb27-820e-4ac0-81f3-edf4bd115f76",
   "metadata": {},
   "outputs": [
    {
     "data": {
      "text/html": [
       "<div>\n",
       "<style scoped>\n",
       "    .dataframe tbody tr th:only-of-type {\n",
       "        vertical-align: middle;\n",
       "    }\n",
       "\n",
       "    .dataframe tbody tr th {\n",
       "        vertical-align: top;\n",
       "    }\n",
       "\n",
       "    .dataframe thead th {\n",
       "        text-align: right;\n",
       "    }\n",
       "</style>\n",
       "<table border=\"1\" class=\"dataframe\">\n",
       "  <thead>\n",
       "    <tr style=\"text-align: right;\">\n",
       "      <th></th>\n",
       "      <th>URL</th>\n",
       "      <th>Label</th>\n",
       "      <th>text_tokenized</th>\n",
       "      <th>text_stemmed</th>\n",
       "    </tr>\n",
       "  </thead>\n",
       "  <tbody>\n",
       "    <tr>\n",
       "      <th>397391</th>\n",
       "      <td>mylife.com/moneymike37</td>\n",
       "      <td>good</td>\n",
       "      <td>[mylife, com, moneymike]</td>\n",
       "      <td>[mylif, com, moneymik]</td>\n",
       "    </tr>\n",
       "    <tr>\n",
       "      <th>522446</th>\n",
       "      <td>boschservisi.info.tr/wp-content/themes/twentyt...</td>\n",
       "      <td>bad</td>\n",
       "      <td>[boschservisi, info, tr, wp, content, themes, ...</td>\n",
       "      <td>[boschservisi, info, tr, wp, content, theme, t...</td>\n",
       "    </tr>\n",
       "    <tr>\n",
       "      <th>358372</th>\n",
       "      <td>imdb.com/name/nm0287310/</td>\n",
       "      <td>good</td>\n",
       "      <td>[imdb, com, name, nm]</td>\n",
       "      <td>[imdb, com, name, nm]</td>\n",
       "    </tr>\n",
       "    <tr>\n",
       "      <th>182176</th>\n",
       "      <td>en.wikipedia.org/wiki/Welcome_(Taproot_album)</td>\n",
       "      <td>good</td>\n",
       "      <td>[en, wikipedia, org, wiki, Welcome, Taproot, a...</td>\n",
       "      <td>[en, wikipedia, org, wiki, welcom, taproot, al...</td>\n",
       "    </tr>\n",
       "    <tr>\n",
       "      <th>170280</th>\n",
       "      <td>en.wikipedia.org/wiki/1997_Oakland_Athletics_s...</td>\n",
       "      <td>good</td>\n",
       "      <td>[en, wikipedia, org, wiki, Oakland, Athletics,...</td>\n",
       "      <td>[en, wikipedia, org, wiki, oakland, athlet, se...</td>\n",
       "    </tr>\n",
       "  </tbody>\n",
       "</table>\n",
       "</div>"
      ],
      "text/plain": [
       "                                                      URL Label  \\\n",
       "397391                             mylife.com/moneymike37  good   \n",
       "522446  boschservisi.info.tr/wp-content/themes/twentyt...   bad   \n",
       "358372                           imdb.com/name/nm0287310/  good   \n",
       "182176      en.wikipedia.org/wiki/Welcome_(Taproot_album)  good   \n",
       "170280  en.wikipedia.org/wiki/1997_Oakland_Athletics_s...  good   \n",
       "\n",
       "                                           text_tokenized  \\\n",
       "397391                           [mylife, com, moneymike]   \n",
       "522446  [boschservisi, info, tr, wp, content, themes, ...   \n",
       "358372                              [imdb, com, name, nm]   \n",
       "182176  [en, wikipedia, org, wiki, Welcome, Taproot, a...   \n",
       "170280  [en, wikipedia, org, wiki, Oakland, Athletics,...   \n",
       "\n",
       "                                             text_stemmed  \n",
       "397391                             [mylif, com, moneymik]  \n",
       "522446  [boschservisi, info, tr, wp, content, theme, t...  \n",
       "358372                              [imdb, com, name, nm]  \n",
       "182176  [en, wikipedia, org, wiki, welcom, taproot, al...  \n",
       "170280  [en, wikipedia, org, wiki, oakland, athlet, se...  "
      ]
     },
     "execution_count": 16,
     "metadata": {},
     "output_type": "execute_result"
    }
   ],
   "source": [
    "phish_data.sample(5)"
   ]
  },
  {
   "cell_type": "code",
   "execution_count": 17,
   "id": "f5c47e6c-4d9a-44d1-896f-3cd75905a1d3",
   "metadata": {},
   "outputs": [
    {
     "name": "stdout",
     "output_type": "stream",
     "text": [
      "Getting joiningwords ...\n",
      "Time taken 0.17255769995972514 sec\n"
     ]
    }
   ],
   "source": [
    "print('Getting joiningwords ...')\n",
    "t0= time.perf_counter()\n",
    "phish_data['text_sent'] = phish_data['text_stemmed'].map(lambda l: ' '.join(l))\n",
    "t1= time.perf_counter() - t0\n",
    "print('Time taken',t1 ,'sec')"
   ]
  },
  {
   "cell_type": "code",
   "execution_count": 18,
   "id": "22723fbe-b7cc-4d90-93ce-1b5c4b86b89f",
   "metadata": {},
   "outputs": [
    {
     "data": {
      "text/html": [
       "<div>\n",
       "<style scoped>\n",
       "    .dataframe tbody tr th:only-of-type {\n",
       "        vertical-align: middle;\n",
       "    }\n",
       "\n",
       "    .dataframe tbody tr th {\n",
       "        vertical-align: top;\n",
       "    }\n",
       "\n",
       "    .dataframe thead th {\n",
       "        text-align: right;\n",
       "    }\n",
       "</style>\n",
       "<table border=\"1\" class=\"dataframe\">\n",
       "  <thead>\n",
       "    <tr style=\"text-align: right;\">\n",
       "      <th></th>\n",
       "      <th>URL</th>\n",
       "      <th>Label</th>\n",
       "      <th>text_tokenized</th>\n",
       "      <th>text_stemmed</th>\n",
       "      <th>text_sent</th>\n",
       "    </tr>\n",
       "  </thead>\n",
       "  <tbody>\n",
       "    <tr>\n",
       "      <th>420905</th>\n",
       "      <td>recipegoldmine.com/season/blackening-rub.html</td>\n",
       "      <td>good</td>\n",
       "      <td>[recipegoldmine, com, season, blackening, rub,...</td>\n",
       "      <td>[recipegoldmin, com, season, blacken, rub, html]</td>\n",
       "      <td>recipegoldmin com season blacken rub html</td>\n",
       "    </tr>\n",
       "    <tr>\n",
       "      <th>394442</th>\n",
       "      <td>musicfolio.com/modernrock/psyche.html</td>\n",
       "      <td>good</td>\n",
       "      <td>[musicfolio, com, modernrock, psyche, html]</td>\n",
       "      <td>[musicfolio, com, modernrock, psych, html]</td>\n",
       "      <td>musicfolio com modernrock psych html</td>\n",
       "    </tr>\n",
       "    <tr>\n",
       "      <th>508518</th>\n",
       "      <td>popheslaren.ru/gate.php</td>\n",
       "      <td>bad</td>\n",
       "      <td>[popheslaren, ru, gate, php]</td>\n",
       "      <td>[popheslaren, ru, gate, php]</td>\n",
       "      <td>popheslaren ru gate php</td>\n",
       "    </tr>\n",
       "    <tr>\n",
       "      <th>543723</th>\n",
       "      <td>icjrdsuouoxjxref.click/information.cgi</td>\n",
       "      <td>bad</td>\n",
       "      <td>[icjrdsuouoxjxref, click, information, cgi]</td>\n",
       "      <td>[icjrdsuouoxjxref, click, inform, cgi]</td>\n",
       "      <td>icjrdsuouoxjxref click inform cgi</td>\n",
       "    </tr>\n",
       "    <tr>\n",
       "      <th>290499</th>\n",
       "      <td>berro.com/common_text/text_5.htm</td>\n",
       "      <td>good</td>\n",
       "      <td>[berro, com, common, text, text, htm]</td>\n",
       "      <td>[berro, com, common, text, text, htm]</td>\n",
       "      <td>berro com common text text htm</td>\n",
       "    </tr>\n",
       "  </tbody>\n",
       "</table>\n",
       "</div>"
      ],
      "text/plain": [
       "                                                  URL Label  \\\n",
       "420905  recipegoldmine.com/season/blackening-rub.html  good   \n",
       "394442          musicfolio.com/modernrock/psyche.html  good   \n",
       "508518                        popheslaren.ru/gate.php   bad   \n",
       "543723         icjrdsuouoxjxref.click/information.cgi   bad   \n",
       "290499               berro.com/common_text/text_5.htm  good   \n",
       "\n",
       "                                           text_tokenized  \\\n",
       "420905  [recipegoldmine, com, season, blackening, rub,...   \n",
       "394442        [musicfolio, com, modernrock, psyche, html]   \n",
       "508518                       [popheslaren, ru, gate, php]   \n",
       "543723        [icjrdsuouoxjxref, click, information, cgi]   \n",
       "290499              [berro, com, common, text, text, htm]   \n",
       "\n",
       "                                            text_stemmed  \\\n",
       "420905  [recipegoldmin, com, season, blacken, rub, html]   \n",
       "394442        [musicfolio, com, modernrock, psych, html]   \n",
       "508518                      [popheslaren, ru, gate, php]   \n",
       "543723            [icjrdsuouoxjxref, click, inform, cgi]   \n",
       "290499             [berro, com, common, text, text, htm]   \n",
       "\n",
       "                                        text_sent  \n",
       "420905  recipegoldmin com season blacken rub html  \n",
       "394442       musicfolio com modernrock psych html  \n",
       "508518                    popheslaren ru gate php  \n",
       "543723          icjrdsuouoxjxref click inform cgi  \n",
       "290499             berro com common text text htm  "
      ]
     },
     "execution_count": 18,
     "metadata": {},
     "output_type": "execute_result"
    }
   ],
   "source": [
    "phish_data.sample(5)"
   ]
  },
  {
   "cell_type": "code",
   "execution_count": 19,
   "id": "deca2043-fb4d-4da6-82f0-77651d82032c",
   "metadata": {},
   "outputs": [],
   "source": [
    "#sliceing classes\n",
    "bad_sites = phish_data[phish_data.Label == 'bad']\n",
    "good_sites = phish_data[phish_data.Label == 'good']"
   ]
  },
  {
   "cell_type": "code",
   "execution_count": 20,
   "id": "41b64e1c-5447-4ed4-84ed-0015fd75c781",
   "metadata": {},
   "outputs": [
    {
     "data": {
      "text/html": [
       "<div>\n",
       "<style scoped>\n",
       "    .dataframe tbody tr th:only-of-type {\n",
       "        vertical-align: middle;\n",
       "    }\n",
       "\n",
       "    .dataframe tbody tr th {\n",
       "        vertical-align: top;\n",
       "    }\n",
       "\n",
       "    .dataframe thead th {\n",
       "        text-align: right;\n",
       "    }\n",
       "</style>\n",
       "<table border=\"1\" class=\"dataframe\">\n",
       "  <thead>\n",
       "    <tr style=\"text-align: right;\">\n",
       "      <th></th>\n",
       "      <th>URL</th>\n",
       "      <th>Label</th>\n",
       "      <th>text_tokenized</th>\n",
       "      <th>text_stemmed</th>\n",
       "      <th>text_sent</th>\n",
       "    </tr>\n",
       "  </thead>\n",
       "  <tbody>\n",
       "    <tr>\n",
       "      <th>0</th>\n",
       "      <td>nobell.it/70ffb52d079109dca5664cce6f317373782/...</td>\n",
       "      <td>bad</td>\n",
       "      <td>[nobell, it, ffb, d, dca, cce, f, login, SkyPe...</td>\n",
       "      <td>[nobel, it, ffb, d, dca, cce, f, login, skype,...</td>\n",
       "      <td>nobel it ffb d dca cce f login skype com en cg...</td>\n",
       "    </tr>\n",
       "    <tr>\n",
       "      <th>1</th>\n",
       "      <td>www.dghjdgf.com/paypal.co.uk/cycgi-bin/webscrc...</td>\n",
       "      <td>bad</td>\n",
       "      <td>[www, dghjdgf, com, paypal, co, uk, cycgi, bin...</td>\n",
       "      <td>[www, dghjdgf, com, paypal, co, uk, cycgi, bin...</td>\n",
       "      <td>www dghjdgf com paypal co uk cycgi bin webscrc...</td>\n",
       "    </tr>\n",
       "    <tr>\n",
       "      <th>2</th>\n",
       "      <td>serviciosbys.com/paypal.cgi.bin.get-into.herf....</td>\n",
       "      <td>bad</td>\n",
       "      <td>[serviciosbys, com, paypal, cgi, bin, get, int...</td>\n",
       "      <td>[serviciosbi, com, paypal, cgi, bin, get, into...</td>\n",
       "      <td>serviciosbi com paypal cgi bin get into herf s...</td>\n",
       "    </tr>\n",
       "    <tr>\n",
       "      <th>3</th>\n",
       "      <td>mail.printakid.com/www.online.americanexpress....</td>\n",
       "      <td>bad</td>\n",
       "      <td>[mail, printakid, com, www, online, americanex...</td>\n",
       "      <td>[mail, printakid, com, www, onlin, americanexp...</td>\n",
       "      <td>mail printakid com www onlin americanexpress c...</td>\n",
       "    </tr>\n",
       "    <tr>\n",
       "      <th>4</th>\n",
       "      <td>thewhiskeydregs.com/wp-content/themes/widescre...</td>\n",
       "      <td>bad</td>\n",
       "      <td>[thewhiskeydregs, com, wp, content, themes, wi...</td>\n",
       "      <td>[thewhiskeydreg, com, wp, content, theme, wide...</td>\n",
       "      <td>thewhiskeydreg com wp content theme widescreen...</td>\n",
       "    </tr>\n",
       "  </tbody>\n",
       "</table>\n",
       "</div>"
      ],
      "text/plain": [
       "                                                 URL Label  \\\n",
       "0  nobell.it/70ffb52d079109dca5664cce6f317373782/...   bad   \n",
       "1  www.dghjdgf.com/paypal.co.uk/cycgi-bin/webscrc...   bad   \n",
       "2  serviciosbys.com/paypal.cgi.bin.get-into.herf....   bad   \n",
       "3  mail.printakid.com/www.online.americanexpress....   bad   \n",
       "4  thewhiskeydregs.com/wp-content/themes/widescre...   bad   \n",
       "\n",
       "                                      text_tokenized  \\\n",
       "0  [nobell, it, ffb, d, dca, cce, f, login, SkyPe...   \n",
       "1  [www, dghjdgf, com, paypal, co, uk, cycgi, bin...   \n",
       "2  [serviciosbys, com, paypal, cgi, bin, get, int...   \n",
       "3  [mail, printakid, com, www, online, americanex...   \n",
       "4  [thewhiskeydregs, com, wp, content, themes, wi...   \n",
       "\n",
       "                                        text_stemmed  \\\n",
       "0  [nobel, it, ffb, d, dca, cce, f, login, skype,...   \n",
       "1  [www, dghjdgf, com, paypal, co, uk, cycgi, bin...   \n",
       "2  [serviciosbi, com, paypal, cgi, bin, get, into...   \n",
       "3  [mail, printakid, com, www, onlin, americanexp...   \n",
       "4  [thewhiskeydreg, com, wp, content, theme, wide...   \n",
       "\n",
       "                                           text_sent  \n",
       "0  nobel it ffb d dca cce f login skype com en cg...  \n",
       "1  www dghjdgf com paypal co uk cycgi bin webscrc...  \n",
       "2  serviciosbi com paypal cgi bin get into herf s...  \n",
       "3  mail printakid com www onlin americanexpress c...  \n",
       "4  thewhiskeydreg com wp content theme widescreen...  "
      ]
     },
     "execution_count": 20,
     "metadata": {},
     "output_type": "execute_result"
    }
   ],
   "source": [
    "bad_sites.head()"
   ]
  },
  {
   "cell_type": "code",
   "execution_count": 21,
   "id": "90d80d3a-b012-425c-9621-2ec0c7cd11ce",
   "metadata": {},
   "outputs": [
    {
     "data": {
      "text/html": [
       "<div>\n",
       "<style scoped>\n",
       "    .dataframe tbody tr th:only-of-type {\n",
       "        vertical-align: middle;\n",
       "    }\n",
       "\n",
       "    .dataframe tbody tr th {\n",
       "        vertical-align: top;\n",
       "    }\n",
       "\n",
       "    .dataframe thead th {\n",
       "        text-align: right;\n",
       "    }\n",
       "</style>\n",
       "<table border=\"1\" class=\"dataframe\">\n",
       "  <thead>\n",
       "    <tr style=\"text-align: right;\">\n",
       "      <th></th>\n",
       "      <th>URL</th>\n",
       "      <th>Label</th>\n",
       "      <th>text_tokenized</th>\n",
       "      <th>text_stemmed</th>\n",
       "      <th>text_sent</th>\n",
       "    </tr>\n",
       "  </thead>\n",
       "  <tbody>\n",
       "    <tr>\n",
       "      <th>18231</th>\n",
       "      <td>esxcc.com/js/index.htm?us.battle.net/noghn/en/...</td>\n",
       "      <td>good</td>\n",
       "      <td>[esxcc, com, js, index, htm, us, battle, net, ...</td>\n",
       "      <td>[esxcc, com, js, index, htm, us, battl, net, n...</td>\n",
       "      <td>esxcc com js index htm us battl net noghn en r...</td>\n",
       "    </tr>\n",
       "    <tr>\n",
       "      <th>18232</th>\n",
       "      <td>www\u000eeira¯&amp;nvinip¿ncH¯wVö%ÆåyDaHðû/ÏyEùu\u0003Ë\\nÓ\u00176...</td>\n",
       "      <td>good</td>\n",
       "      <td>[www, eira, nvinip, ncH, wV, yDaH, yE, u, rT, ...</td>\n",
       "      <td>[www, eira, nvinip, nch, wv, ydah, ye, u, rt, ...</td>\n",
       "      <td>www eira nvinip nch wv ydah ye u rt u g m i xz...</td>\n",
       "    </tr>\n",
       "    <tr>\n",
       "      <th>18233</th>\n",
       "      <td>'www.institutocgr.coo/web/media/syqvem/dk-\u000fóij...</td>\n",
       "      <td>good</td>\n",
       "      <td>[www, institutocgr, coo, web, media, syqvem, d...</td>\n",
       "      <td>[www, institutocgr, coo, web, media, syqvem, d...</td>\n",
       "      <td>www institutocgr coo web media syqvem dk ij r ...</td>\n",
       "    </tr>\n",
       "    <tr>\n",
       "      <th>18234</th>\n",
       "      <td>\u0011\u0018Yìê\f",
       "koãÕ»Î§DéÎ\u0002l½ñ¡ââqtò¸/à; Í</td>\n",
       "      <td>good</td>\n",
       "      <td>[Y, ko, D, l, qt]</td>\n",
       "      <td>[y, ko, d, l, qt]</td>\n",
       "      <td>y ko d l qt</td>\n",
       "    </tr>\n",
       "    <tr>\n",
       "      <th>18236</th>\n",
       "      <td>ruta89fm.com/images/AS@Vies/1i75cf7b16vc&lt;F\u0015d16...</td>\n",
       "      <td>good</td>\n",
       "      <td>[ruta, fm, com, images, AS, Vies, i, cf, b, vc...</td>\n",
       "      <td>[ruta, fm, com, imag, as, vie, i, cf, b, vc, f...</td>\n",
       "      <td>ruta fm com imag as vie i cf b vc f d b g sd v...</td>\n",
       "    </tr>\n",
       "  </tbody>\n",
       "</table>\n",
       "</div>"
      ],
      "text/plain": [
       "                                                     URL Label  \\\n",
       "18231  esxcc.com/js/index.htm?us.battle.net/noghn/en/...  good   \n",
       "18232  www\u000eeira¯&nvinip¿ncH¯wVö%ÆåyDaHðû/ÏyEùu\u0003Ë\\nÓ\u00176...  good   \n",
       "18233  'www.institutocgr.coo/web/media/syqvem/dk-\u000fóij...  good   \n",
       "18234                  \u0011\u0018Yìê\n",
       "koãÕ»Î§DéÎ\u0002l½ñ¡ââqtò¸/à; Í  good   \n",
       "18236  ruta89fm.com/images/AS@Vies/1i75cf7b16vc<F\u0015d16...  good   \n",
       "\n",
       "                                          text_tokenized  \\\n",
       "18231  [esxcc, com, js, index, htm, us, battle, net, ...   \n",
       "18232  [www, eira, nvinip, ncH, wV, yDaH, yE, u, rT, ...   \n",
       "18233  [www, institutocgr, coo, web, media, syqvem, d...   \n",
       "18234                                  [Y, ko, D, l, qt]   \n",
       "18236  [ruta, fm, com, images, AS, Vies, i, cf, b, vc...   \n",
       "\n",
       "                                            text_stemmed  \\\n",
       "18231  [esxcc, com, js, index, htm, us, battl, net, n...   \n",
       "18232  [www, eira, nvinip, nch, wv, ydah, ye, u, rt, ...   \n",
       "18233  [www, institutocgr, coo, web, media, syqvem, d...   \n",
       "18234                                  [y, ko, d, l, qt]   \n",
       "18236  [ruta, fm, com, imag, as, vie, i, cf, b, vc, f...   \n",
       "\n",
       "                                               text_sent  \n",
       "18231  esxcc com js index htm us battl net noghn en r...  \n",
       "18232  www eira nvinip nch wv ydah ye u rt u g m i xz...  \n",
       "18233  www institutocgr coo web media syqvem dk ij r ...  \n",
       "18234                                        y ko d l qt  \n",
       "18236  ruta fm com imag as vie i cf b vc f d b g sd v...  "
      ]
     },
     "execution_count": 21,
     "metadata": {},
     "output_type": "execute_result"
    }
   ],
   "source": [
    "good_sites.head()"
   ]
  },
  {
   "cell_type": "code",
   "execution_count": 22,
   "id": "76c5fd0d-9bb8-4043-86d8-875bd4f53fa8",
   "metadata": {},
   "outputs": [],
   "source": [
    "data = good_sites.text_sent\n",
    "data.reset_index(drop=True, inplace=True)"
   ]
  },
  {
   "cell_type": "code",
   "execution_count": 23,
   "id": "0366998b-7142-45db-80d3-7f6f8df4209b",
   "metadata": {},
   "outputs": [],
   "source": [
    "data = bad_sites.text_sent\n",
    "data.reset_index(drop=True, inplace=True)"
   ]
  },
  {
   "cell_type": "code",
   "execution_count": 24,
   "id": "514273d3-2edc-4dbe-b20e-ada318454368",
   "metadata": {},
   "outputs": [],
   "source": [
    "browser = webdriver.Chrome(\"chromedriver.exe\")"
   ]
  },
  {
   "cell_type": "code",
   "execution_count": 25,
   "id": "60d42312-9643-4d33-8238-98a28a0d5aae",
   "metadata": {},
   "outputs": [],
   "source": [
    "list_urls = ['http://pancakeswep.com/'] #here i take phishing sites \n",
    "links_with_text = []"
   ]
  },
  {
   "cell_type": "code",
   "execution_count": 26,
   "id": "35703288-a47c-41c7-8e2d-d670110e5aff",
   "metadata": {},
   "outputs": [],
   "source": [
    "for url in list_urls:\n",
    "    browser.get(url)\n",
    "    soup = BeautifulSoup(browser.page_source,\"html.parser\")\n",
    "    for line in soup.find_all('a'):\n",
    "        href = line.get('href')\n",
    "        links_with_text.append([url, href])"
   ]
  },
  {
   "cell_type": "code",
   "execution_count": 27,
   "id": "3e82c784-d1a4-4cee-a466-457a3b7e3c05",
   "metadata": {},
   "outputs": [],
   "source": [
    "df = pd.DataFrame(links_with_text, columns=[\"from\", \"to\"])"
   ]
  },
  {
   "cell_type": "code",
   "execution_count": 28,
   "id": "044f66bd-9900-4aa2-83c6-1ae8aec13d0f",
   "metadata": {},
   "outputs": [
    {
     "data": {
      "text/html": [
       "<div>\n",
       "<style scoped>\n",
       "    .dataframe tbody tr th:only-of-type {\n",
       "        vertical-align: middle;\n",
       "    }\n",
       "\n",
       "    .dataframe tbody tr th {\n",
       "        vertical-align: top;\n",
       "    }\n",
       "\n",
       "    .dataframe thead th {\n",
       "        text-align: right;\n",
       "    }\n",
       "</style>\n",
       "<table border=\"1\" class=\"dataframe\">\n",
       "  <thead>\n",
       "    <tr style=\"text-align: right;\">\n",
       "      <th></th>\n",
       "      <th>from</th>\n",
       "      <th>to</th>\n",
       "    </tr>\n",
       "  </thead>\n",
       "  <tbody>\n",
       "    <tr>\n",
       "      <th>0</th>\n",
       "      <td>http://pancakeswep.com/</td>\n",
       "      <td>polygon.technology/</td>\n",
       "    </tr>\n",
       "    <tr>\n",
       "      <th>1</th>\n",
       "      <td>http://pancakeswep.com/</td>\n",
       "      <td>polygon.technology/</td>\n",
       "    </tr>\n",
       "    <tr>\n",
       "      <th>2</th>\n",
       "      <td>http://pancakeswep.com/</td>\n",
       "      <td>polygon.technology/</td>\n",
       "    </tr>\n",
       "    <tr>\n",
       "      <th>3</th>\n",
       "      <td>http://pancakeswep.com/</td>\n",
       "      <td>polygon.technology/</td>\n",
       "    </tr>\n",
       "    <tr>\n",
       "      <th>4</th>\n",
       "      <td>http://pancakeswep.com/</td>\n",
       "      <td>polygon.technology/</td>\n",
       "    </tr>\n",
       "  </tbody>\n",
       "</table>\n",
       "</div>"
      ],
      "text/plain": [
       "                      from                   to\n",
       "0  http://pancakeswep.com/  polygon.technology/\n",
       "1  http://pancakeswep.com/  polygon.technology/\n",
       "2  http://pancakeswep.com/  polygon.technology/\n",
       "3  http://pancakeswep.com/  polygon.technology/\n",
       "4  http://pancakeswep.com/  polygon.technology/"
      ]
     },
     "execution_count": 28,
     "metadata": {},
     "output_type": "execute_result"
    }
   ],
   "source": [
    "df.head()"
   ]
  },
  {
   "cell_type": "code",
   "execution_count": 29,
   "id": "e961976d-1c2d-4763-bd07-7fd504196eb7",
   "metadata": {},
   "outputs": [
    {
     "data": {
      "image/png": "[encoded data removed]",
      "text/plain": [
       "<Figure size 432x288 with 1 Axes>"
      ]
     },
     "metadata": {},
     "output_type": "display_data"
    }
   ],
   "source": [
    "GA = nx.from_pandas_edgelist(df, source=\"from\", target=\"to\")\n",
    "nx.draw(GA, with_labels=False)"
   ]
  },
  {
   "cell_type": "code",
   "execution_count": 30,
   "id": "b6704c5e-ab9b-4962-b8e8-1efae7db2012",
   "metadata": {},
   "outputs": [],
   "source": [
    "#create cv object\n",
    "cv = CountVectorizer()"
   ]
  },
  {
   "cell_type": "code",
   "execution_count": 31,
   "id": "afe22067-c320-40f5-96bc-42f980cee9c6",
   "metadata": {},
   "outputs": [],
   "source": [
    "#help(CountVectorizer())"
   ]
  },
  {
   "cell_type": "code",
   "execution_count": 32,
   "id": "bf4745cc-fc0b-468e-89b3-57c1e79c7212",
   "metadata": {},
   "outputs": [],
   "source": [
    "feature = cv.fit_transform(phish_data.text_sent) #transform all text which we tokenize and stemed"
   ]
  },
  {
   "cell_type": "code",
   "execution_count": 33,
   "id": "fe3265cf-a20a-45df-8e86-b5bebe8a4c2a",
   "metadata": {},
   "outputs": [
    {
     "data": {
      "text/plain": [
       "array([[0, 0, 0, ..., 0, 0, 0],\n",
       "       [0, 0, 0, ..., 0, 0, 0],\n",
       "       [0, 0, 0, ..., 0, 0, 0],\n",
       "       [0, 0, 0, ..., 0, 0, 0],\n",
       "       [0, 0, 0, ..., 0, 0, 0]], dtype=int64)"
      ]
     },
     "execution_count": 33,
     "metadata": {},
     "output_type": "execute_result"
    }
   ],
   "source": [
    "feature[:5].toarray()"
   ]
  },
  {
   "cell_type": "code",
   "execution_count": 34,
   "id": "a49ea8cb-b0a1-4f20-b543-8cd4a141c043",
   "metadata": {},
   "outputs": [],
   "source": [
    "trainX, testX, trainY, testY = train_test_split(feature, phish_data.Label)"
   ]
  },
  {
   "cell_type": "code",
   "execution_count": 35,
   "id": "7e83412e-b537-4404-a544-f7003d9bb164",
   "metadata": {},
   "outputs": [],
   "source": [
    "# create lr object\n",
    "lr = LogisticRegression()"
   ]
  },
  {
   "cell_type": "code",
   "execution_count": 36,
   "id": "5b043eed-e0c9-4ae2-a064-479f46f82377",
   "metadata": {},
   "outputs": [
    {
     "data": {
      "text/plain": [
       "LogisticRegression()"
      ]
     },
     "execution_count": 36,
     "metadata": {},
     "output_type": "execute_result"
    }
   ],
   "source": [
    "lr.fit(trainX,trainY)"
   ]
  },
  {
   "cell_type": "code",
   "execution_count": 37,
   "id": "960f9661-359c-4236-8018-3b2772c30518",
   "metadata": {},
   "outputs": [
    {
     "data": {
      "text/plain": [
       "0.964095618806294"
      ]
     },
     "execution_count": 37,
     "metadata": {},
     "output_type": "execute_result"
    }
   ],
   "source": [
    "lr.score(testX,testY)"
   ]
  },
  {
   "cell_type": "code",
   "execution_count": 38,
   "id": "166fd8b6-64fc-4605-83a7-db67ad8b9d47",
   "metadata": {},
   "outputs": [],
   "source": [
    "Scores_ml = {}\n",
    "Scores_ml['Logistic Regression'] = np.round(lr.score(testX,testY),2)"
   ]
  },
  {
   "cell_type": "code",
   "execution_count": 39,
   "id": "574cf0a2-7370-4d93-a4cb-cc4a76e06013",
   "metadata": {},
   "outputs": [
    {
     "name": "stdout",
     "output_type": "stream",
     "text": [
      "Training Accuracy : 0.9786388161423658\n",
      "Testing Accuracy : 0.964095618806294\n",
      "\n",
      "CLASSIFICATION REPORT\n",
      "\n",
      "              precision    recall  f1-score   support\n",
      "\n",
      "         Bad       0.91      0.97      0.94     36849\n",
      "        Good       0.99      0.96      0.98    100488\n",
      "\n",
      "    accuracy                           0.96    137337\n",
      "   macro avg       0.95      0.97      0.96    137337\n",
      "weighted avg       0.97      0.96      0.96    137337\n",
      "\n",
      "\n",
      "CONFUSION MATRIX\n"
     ]
    },
    {
     "data": {
      "text/plain": [
       "<AxesSubplot:>"
      ]
     },
     "execution_count": 39,
     "metadata": {},
     "output_type": "execute_result"
    },
    {
     "data": {
      "image/png": "[encoded data removed]",
      "text/plain": [
       "<Figure size 432x288 with 2 Axes>"
      ]
     },
     "metadata": {},
     "output_type": "display_data"
    }
   ],
   "source": [
    "print('Training Accuracy :',lr.score(trainX,trainY))\n",
    "print('Testing Accuracy :',lr.score(testX,testY))\n",
    "con_mat = pd.DataFrame(confusion_matrix(lr.predict(testX), testY),\n",
    "            columns = ['Predicted:Bad', 'Predicted:Good'],\n",
    "            index = ['Actual:Bad', 'Actual:Good'])\n",
    "\n",
    "\n",
    "print('\\nCLASSIFICATION REPORT\\n')\n",
    "print(classification_report(lr.predict(testX), testY,\n",
    "                            target_names =['Bad','Good']))\n",
    "\n",
    "print('\\nCONFUSION MATRIX')\n",
    "plt.figure(figsize= (6,4))\n",
    "sns.heatmap(con_mat, annot = True,fmt='d',cmap=\"YlGnBu\")"
   ]
  },
  {
   "cell_type": "code",
   "execution_count": 40,
   "id": "101b2291-cb34-4d2c-9b16-12c21d853dbc",
   "metadata": {},
   "outputs": [],
   "source": [
    "# create mnb object\n",
    "mnb = MultinomialNB()"
   ]
  },
  {
   "cell_type": "code",
   "execution_count": 41,
   "id": "9b33dcb2-737e-4517-97e5-ffc7e9897182",
   "metadata": {},
   "outputs": [
    {
     "data": {
      "text/plain": [
       "MultinomialNB()"
      ]
     },
     "execution_count": 41,
     "metadata": {},
     "output_type": "execute_result"
    }
   ],
   "source": [
    "mnb.fit(trainX,trainY)"
   ]
  },
  {
   "cell_type": "code",
   "execution_count": 42,
   "id": "f94b36e3-cd54-4380-9da3-bf2f104afe91",
   "metadata": {},
   "outputs": [
    {
     "data": {
      "text/plain": [
       "0.9568797920443871"
      ]
     },
     "execution_count": 42,
     "metadata": {},
     "output_type": "execute_result"
    }
   ],
   "source": [
    "mnb.score(testX,testY)"
   ]
  },
  {
   "cell_type": "code",
   "execution_count": 43,
   "id": "bc350e3b-649b-418f-8a6d-f22b65ca1e3d",
   "metadata": {},
   "outputs": [],
   "source": [
    "Scores_ml['MultinomialNB'] = np.round(mnb.score(testX,testY),2)"
   ]
  },
  {
   "cell_type": "code",
   "execution_count": 44,
   "id": "e5952f97-4cb7-42ec-93b2-5d302c5d2073",
   "metadata": {},
   "outputs": [
    {
     "name": "stdout",
     "output_type": "stream",
     "text": [
      "Training Accuracy : 0.9742796880650665\n",
      "Testing Accuracy : 0.9568797920443871\n",
      "\n",
      "CLASSIFICATION REPORT\n",
      "\n",
      "              precision    recall  f1-score   support\n",
      "\n",
      "         Bad       0.91      0.94      0.92     38398\n",
      "        Good       0.97      0.97      0.97     98939\n",
      "\n",
      "    accuracy                           0.96    137337\n",
      "   macro avg       0.94      0.95      0.95    137337\n",
      "weighted avg       0.96      0.96      0.96    137337\n",
      "\n",
      "\n",
      "CONFUSION MATRIX\n"
     ]
    },
    {
     "data": {
      "text/plain": [
       "<AxesSubplot:>"
      ]
     },
     "execution_count": 44,
     "metadata": {},
     "output_type": "execute_result"
    },
    {
     "data": {
      "image/png": "[encoded data removed]",
      "text/plain": [
       "<Figure size 432x288 with 2 Axes>"
      ]
     },
     "metadata": {},
     "output_type": "display_data"
    }
   ],
   "source": [
    "print('Training Accuracy :',mnb.score(trainX,trainY))\n",
    "print('Testing Accuracy :',mnb.score(testX,testY))\n",
    "con_mat = pd.DataFrame(confusion_matrix(mnb.predict(testX), testY),\n",
    "            columns = ['Predicted:Bad', 'Predicted:Good'],\n",
    "            index = ['Actual:Bad', 'Actual:Good'])\n",
    "\n",
    "\n",
    "print('\\nCLASSIFICATION REPORT\\n')\n",
    "print(classification_report(mnb.predict(testX), testY,\n",
    "                            target_names =['Bad','Good']))\n",
    "\n",
    "print('\\nCONFUSION MATRIX')\n",
    "plt.figure(figsize= (6,4))\n",
    "sns.heatmap(con_mat, annot = True,fmt='d',cmap=\"YlGnBu\")"
   ]
  },
  {
   "cell_type": "code",
   "execution_count": 45,
   "id": "42142f81-210b-4f9c-9c06-6c83c5f04797",
   "metadata": {},
   "outputs": [
    {
     "data": {
      "text/plain": [
       "<AxesSubplot:ylabel='Accuracy'>"
      ]
     },
     "execution_count": 45,
     "metadata": {},
     "output_type": "execute_result"
    },
    {
     "data": {
      "image/png": "[encoded data removed]",
      "text/plain": [
       "<Figure size 432x288 with 1 Axes>"
      ]
     },
     "metadata": {},
     "output_type": "display_data"
    }
   ],
   "source": [
    "acc = pd.DataFrame.from_dict(Scores_ml,orient = 'index',columns=['Accuracy'])\n",
    "sns.set_style('darkgrid')\n",
    "sns.barplot(acc.index,acc.Accuracy)"
   ]
  },
  {
   "cell_type": "code",
   "execution_count": 46,
   "id": "41abdfac-7f32-415c-a53a-5f760fb02232",
   "metadata": {},
   "outputs": [],
   "source": [
    "pipeline_ls = make_pipeline(CountVectorizer(tokenizer = RegexpTokenizer(r'[A-Za-z]+').tokenize,stop_words='english'), LogisticRegression())\n",
    "##(r'\\b(?:http|ftp)s?://\\S*\\w|\\w+|[^\\w\\s]+') ([a-zA-Z]+)([0-9]+) -- these tolenizers giving me low accuray "
   ]
  },
  {
   "cell_type": "code",
   "execution_count": 47,
   "id": "6a555157-fe46-47d0-bfba-58e4c7d45e72",
   "metadata": {},
   "outputs": [],
   "source": [
    "trainX, testX, trainY, testY = train_test_split(phish_data.URL, phish_data.Label)"
   ]
  },
  {
   "cell_type": "code",
   "execution_count": 48,
   "id": "d9f3b8e2-5fdc-4f06-ab0d-111f97e87c94",
   "metadata": {},
   "outputs": [
    {
     "data": {
      "text/plain": [
       "Pipeline(steps=[('countvectorizer',\n",
       "                 CountVectorizer(stop_words='english',\n",
       "                                 tokenizer=<bound method RegexpTokenizer.tokenize of RegexpTokenizer(pattern='[A-Za-z]+', gaps=False, discard_empty=True, flags=re.UNICODE|re.MULTILINE|re.DOTALL)>)),\n",
       "                ('logisticregression', LogisticRegression())])"
      ]
     },
     "execution_count": 48,
     "metadata": {},
     "output_type": "execute_result"
    }
   ],
   "source": [
    "pipeline_ls.fit(trainX,trainY)"
   ]
  },
  {
   "cell_type": "code",
   "execution_count": 49,
   "id": "ab2b3ed4-77f5-441c-a8bd-8421ab824760",
   "metadata": {},
   "outputs": [
    {
     "data": {
      "text/plain": [
       "0.9661489620422755"
      ]
     },
     "execution_count": 49,
     "metadata": {},
     "output_type": "execute_result"
    }
   ],
   "source": [
    "pipeline_ls.score(testX,testY) "
   ]
  },
  {
   "cell_type": "code",
   "execution_count": 50,
   "id": "c6e8e75a-40c4-4993-b650-d709ef4b6ca7",
   "metadata": {},
   "outputs": [
    {
     "name": "stdout",
     "output_type": "stream",
     "text": [
      "Training Accuracy : 0.9795271462516596\n",
      "Testing Accuracy : 0.9661489620422755\n",
      "\n",
      "CLASSIFICATION REPORT\n",
      "\n",
      "              precision    recall  f1-score   support\n",
      "\n",
      "         Bad       0.91      0.97      0.94     36780\n",
      "        Good       0.99      0.97      0.98    100557\n",
      "\n",
      "    accuracy                           0.97    137337\n",
      "   macro avg       0.95      0.97      0.96    137337\n",
      "weighted avg       0.97      0.97      0.97    137337\n",
      "\n",
      "\n",
      "CONFUSION MATRIX\n"
     ]
    },
    {
     "data": {
      "text/plain": [
       "<AxesSubplot:>"
      ]
     },
     "execution_count": 50,
     "metadata": {},
     "output_type": "execute_result"
    },
    {
     "data": {
      "image/png": "[encoded data removed]",
      "text/plain": [
       "<Figure size 432x288 with 2 Axes>"
      ]
     },
     "metadata": {},
     "output_type": "display_data"
    }
   ],
   "source": [
    "print('Training Accuracy :',pipeline_ls.score(trainX,trainY))\n",
    "print('Testing Accuracy :',pipeline_ls.score(testX,testY))\n",
    "con_mat = pd.DataFrame(confusion_matrix(pipeline_ls.predict(testX), testY),\n",
    "            columns = ['Predicted:Bad', 'Predicted:Good'],\n",
    "            index = ['Actual:Bad', 'Actual:Good'])\n",
    "\n",
    "\n",
    "print('\\nCLASSIFICATION REPORT\\n')\n",
    "print(classification_report(pipeline_ls.predict(testX), testY,\n",
    "                            target_names =['Bad','Good']))\n",
    "\n",
    "print('\\nCONFUSION MATRIX')\n",
    "plt.figure(figsize= (6,4))\n",
    "sns.heatmap(con_mat, annot = True,fmt='d',cmap=\"YlGnBu\")"
   ]
  },
  {
   "cell_type": "code",
   "execution_count": 51,
   "id": "160d26d8-e33d-42cd-a26e-f2e7ec084ebb",
   "metadata": {},
   "outputs": [],
   "source": [
    "pickle.dump(pipeline_ls,open('phishing.pkl','wb'))"
   ]
  },
  {
   "cell_type": "code",
   "execution_count": 52,
   "id": "2b66c9f9-12c4-4bce-bac5-ea2a736b1452",
   "metadata": {},
   "outputs": [
    {
     "name": "stdout",
     "output_type": "stream",
     "text": [
      "0.9661489620422755\n"
     ]
    }
   ],
   "source": [
    "loaded_model = pickle.load(open('phishing.pkl', 'rb'))\n",
    "result = loaded_model.score(testX,testY)\n",
    "print(result)"
   ]
  },
  {
   "cell_type": "code",
   "execution_count": 53,
   "id": "cb695eb8-6077-41f4-b286-47be70008706",
   "metadata": {},
   "outputs": [
    {
     "data": {
      "text/plain": [
       "'Bad links => this are phishing sites\\nyeniik.com.tr/wp-admin/js/login.alibaba.com/login.jsp.php\\nfazan-pacir.rs/temp/libraries/ipad\\nwww.tubemoviez.exe\\nsvision-online.de/mgfi/administrator/components/com_babackup/classes/fx29id1.txt\\n\\nGood links => this are not phishing sites\\nwww.youtube.com/\\nyoutube.com/watch?v=qI0TQJI3vdU\\nwww.retailhellunderground.com/\\nrestorevisioncenters.com/html/technology.html'"
      ]
     },
     "execution_count": 53,
     "metadata": {},
     "output_type": "execute_result"
    }
   ],
   "source": [
    "'''Bad links => this are phishing sites\n",
    "yeniik.com.tr/wp-admin/js/login.alibaba.com/login.jsp.php\n",
    "fazan-pacir.rs/temp/libraries/ipad\n",
    "www.tubemoviez.exe\n",
    "svision-online.de/mgfi/administrator/components/com_babackup/classes/fx29id1.txt\n",
    "\n",
    "Good links => this are not phishing sites\n",
    "www.youtube.com/\n",
    "youtube.com/watch?v=qI0TQJI3vdU\n",
    "www.retailhellunderground.com/\n",
    "restorevisioncenters.com/html/technology.html'''"
   ]
  },
  {
   "cell_type": "code",
   "execution_count": 54,
   "id": "10ade1c6-de21-459e-b7c1-4f6ecce565db",
   "metadata": {},
   "outputs": [
    {
     "name": "stdout",
     "output_type": "stream",
     "text": [
      "['bad' 'bad' 'bad' 'bad']\n",
      "******************************\n",
      "['good' 'good' 'good' 'good']\n"
     ]
    }
   ],
   "source": [
    "predict_bad = ['yeniik.com.tr/wp-admin/js/login.alibaba.com/login.jsp.php','fazan-pacir.rs/temp/libraries/ipad','tubemoviez.exe','svision-online.de/mgfi/administrator/components/com_babackup/classes/fx29id1.txt']\n",
    "predict_good = ['youtube.com/','youtube.com/watch?v=qI0TQJI3vdU','retailhellunderground.com/','restorevisioncenters.com/html/technology.html']\n",
    "loaded_model = pickle.load(open('phishing.pkl', 'rb'))\n",
    "#predict_bad = vectorizers.transform(predict_bad)\n",
    "# predict_good = vectorizer.transform(predict_good)\n",
    "result = loaded_model.predict(predict_bad)\n",
    "result2 = loaded_model.predict(predict_good)\n",
    "print(result)\n",
    "print(\"*\"*30)\n",
    "print(result2)"
   ]
  },
  {
   "cell_type": "code",
   "execution_count": 55,
   "id": "39cf2f20",
   "metadata": {},
   "outputs": [],
   "source": [
    "# \"uvicorn prediction_app:app --reload\"\n",
    "# run this code in the cmd in the project folder and then open a new tab nd then run\n",
    "# \"http://127.0.0.1:8000/docs#/default\""
   ]
  }
 ],
 "metadata": {
  "kernelspec": {
   "display_name": "Python 3 (ipykernel)",
   "language": "python",
   "name": "python3"
  },
  "language_info": {
   "codemirror_mode": {
    "name": "ipython",
    "version": 3
   },
   "file_extension": ".py",
   "mimetype": "text/x-python",
   "name": "python",
   "nbconvert_exporter": "python",
   "pygments_lexer": "ipython3",
   "version": "3.10.2"
  }
 },
 "nbformat": 4,
 "nbformat_minor": 5
}
